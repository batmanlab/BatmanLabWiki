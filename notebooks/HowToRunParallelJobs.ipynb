{
 "cells": [
  {
   "cell_type": "code",
   "execution_count": 2,
   "metadata": {
    "collapsed": true
   },
   "outputs": [],
   "source": [
    "import os\n",
    "import sys\n",
    "\n",
    "# add the BatmanLab folder into your paths\n",
    "sys.path.append('/home/batmanghelich/Projects/BatmanLab/commons')\n",
    "\n",
    "import utils as ut\n"
   ]
  },
  {
   "cell_type": "markdown",
   "metadata": {
    "collapsed": true
   },
   "source": [
    "Here is an example showing how to submit jobs to c3ddb:"
   ]
  },
  {
   "cell_type": "code",
   "execution_count": 3,
   "metadata": {
    "collapsed": false
   },
   "outputs": [
    {
     "name": "stdout",
     "output_type": "stream",
     "text": [
      "Simulate :   sbatch -o /scratch/users/batmanghelich/COPDGene/myFancyJob0.stdout -e /scratch/users/batmanghelich/COPDGene/myFancyJob0.stderr --job-name myFancyJob --share -n 4 /home/batmanghelich/Projects/BatmanLab/commons/slurmLauncher_c3ddb.sh /FULL-PATH-TO-MY-FANCY-EXECFILE/myFancyExecutable --opt1 optVal --opt2 0 --opt3\n",
      "------\n",
      "Simulate :   sbatch -o /scratch/users/batmanghelich/COPDGene/myFancyJob1.stdout -e /scratch/users/batmanghelich/COPDGene/myFancyJob1.stderr --job-name myFancyJob --share -n 4 /home/batmanghelich/Projects/BatmanLab/commons/slurmLauncher_c3ddb.sh /FULL-PATH-TO-MY-FANCY-EXECFILE/myFancyExecutable --opt1 optVal --opt2 1 --opt3\n",
      "------\n",
      "Simulate :   sbatch -o /scratch/users/batmanghelich/COPDGene/myFancyJob2.stdout -e /scratch/users/batmanghelich/COPDGene/myFancyJob2.stderr --job-name myFancyJob --share -n 4 /home/batmanghelich/Projects/BatmanLab/commons/slurmLauncher_c3ddb.sh /FULL-PATH-TO-MY-FANCY-EXECFILE/myFancyExecutable --opt1 optVal --opt2 2 --opt3\n",
      "------\n",
      "Simulate :   sbatch -o /scratch/users/batmanghelich/COPDGene/myFancyJob3.stdout -e /scratch/users/batmanghelich/COPDGene/myFancyJob3.stderr --job-name myFancyJob --share -n 4 /home/batmanghelich/Projects/BatmanLab/commons/slurmLauncher_c3ddb.sh /FULL-PATH-TO-MY-FANCY-EXECFILE/myFancyExecutable --opt1 optVal --opt2 3 --opt3\n",
      "------\n",
      "Simulate :   sbatch -o /scratch/users/batmanghelich/COPDGene/myFancyJob4.stdout -e /scratch/users/batmanghelich/COPDGene/myFancyJob4.stderr --job-name myFancyJob --share -n 4 /home/batmanghelich/Projects/BatmanLab/commons/slurmLauncher_c3ddb.sh /FULL-PATH-TO-MY-FANCY-EXECFILE/myFancyExecutable --opt1 optVal --opt2 4 --opt3\n",
      "------\n",
      "Simulate :   sbatch -o /scratch/users/batmanghelich/COPDGene/myFancyJob5.stdout -e /scratch/users/batmanghelich/COPDGene/myFancyJob5.stderr --job-name myFancyJob --share -n 4 /home/batmanghelich/Projects/BatmanLab/commons/slurmLauncher_c3ddb.sh /FULL-PATH-TO-MY-FANCY-EXECFILE/myFancyExecutable --opt1 optVal --opt2 5 --opt3\n",
      "------\n",
      "Simulate :   sbatch -o /scratch/users/batmanghelich/COPDGene/myFancyJob6.stdout -e /scratch/users/batmanghelich/COPDGene/myFancyJob6.stderr --job-name myFancyJob --share -n 4 /home/batmanghelich/Projects/BatmanLab/commons/slurmLauncher_c3ddb.sh /FULL-PATH-TO-MY-FANCY-EXECFILE/myFancyExecutable --opt1 optVal --opt2 6 --opt3\n",
      "------\n",
      "Simulate :   sbatch -o /scratch/users/batmanghelich/COPDGene/myFancyJob7.stdout -e /scratch/users/batmanghelich/COPDGene/myFancyJob7.stderr --job-name myFancyJob --share -n 4 /home/batmanghelich/Projects/BatmanLab/commons/slurmLauncher_c3ddb.sh /FULL-PATH-TO-MY-FANCY-EXECFILE/myFancyExecutable --opt1 optVal --opt2 7 --opt3\n",
      "------\n",
      "Simulate :   sbatch -o /scratch/users/batmanghelich/COPDGene/myFancyJob8.stdout -e /scratch/users/batmanghelich/COPDGene/myFancyJob8.stderr --job-name myFancyJob --share -n 4 /home/batmanghelich/Projects/BatmanLab/commons/slurmLauncher_c3ddb.sh /FULL-PATH-TO-MY-FANCY-EXECFILE/myFancyExecutable --opt1 optVal --opt2 8 --opt3\n",
      "------\n",
      "Simulate :   sbatch -o /scratch/users/batmanghelich/COPDGene/myFancyJob9.stdout -e /scratch/users/batmanghelich/COPDGene/myFancyJob9.stderr --job-name myFancyJob --share -n 4 /home/batmanghelich/Projects/BatmanLab/commons/slurmLauncher_c3ddb.sh /FULL-PATH-TO-MY-FANCY-EXECFILE/myFancyExecutable --opt1 optVal --opt2 9 --opt3\n",
      "------\n"
     ]
    }
   ],
   "source": [
    "slurmOpt = ['--share',  # include any other option you want here.\n",
    "            '-n',4   # Here I am asking jobs to share node and I ask for 4 cores.\n",
    "           ]   # take my options for slurm with grain of salt. Look what is good for your job\n",
    "jobName = 'myFancyJob'   # you can also change the job name if the loop if you want\n",
    "simFlag = True   #this is for dry-run or you want to run it for real turn this to False \n",
    "\n",
    "\n",
    "reload(ut)\n",
    "\n",
    "for i in range(10):\n",
    "    cmd = ['/FULL-PATH-TO-MY-FANCY-EXECFILE/myFancyExecutable',\n",
    "           '--opt1','optVal',\n",
    "           '--opt2',i,\n",
    "           '--opt3']\n",
    "    \n",
    "    stdOut = '/scratch/users/batmanghelich/COPDGene/myFancyJob%d.stdout'%i\n",
    "    stdErr = '/scratch/users/batmanghelich/COPDGene/myFancyJob%d.stderr'%i\n",
    "      \n",
    "    ut.submit_c3ddb(cmd, \n",
    "                    stdOut, stdErr, \n",
    "                    jobName, slurmOptions=slurmOpt, \n",
    "                    simulate = simFlag)\n",
    "    print \"------\""
   ]
  },
  {
   "cell_type": "code",
   "execution_count": null,
   "metadata": {
    "collapsed": true
   },
   "outputs": [],
   "source": []
  }
 ],
 "metadata": {
  "anaconda-cloud": {},
  "kernelspec": {
   "display_name": "Python [default]",
   "language": "python",
   "name": "python2"
  },
  "language_info": {
   "codemirror_mode": {
    "name": "ipython",
    "version": 2
   },
   "file_extension": ".py",
   "mimetype": "text/x-python",
   "name": "python",
   "nbconvert_exporter": "python",
   "pygments_lexer": "ipython2",
   "version": "2.7.12"
  }
 },
 "nbformat": 4,
 "nbformat_minor": 1
}
